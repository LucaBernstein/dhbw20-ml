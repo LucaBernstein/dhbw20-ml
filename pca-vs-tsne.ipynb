{
 "cells": [
  {
   "cell_type": "markdown",
   "metadata": {},
   "source": [
    "# PCA vs t-SNE"
   ]
  },
  {
   "cell_type": "code",
   "execution_count": null,
   "metadata": {},
   "outputs": [],
   "source": [
    "import matplotlib.pyplot as plt\n",
    "%matplotlib inline\n",
    "import numpy as np\n",
    "from mpl_toolkits.mplot3d import Axes3D"
   ]
  },
  {
   "cell_type": "code",
   "execution_count": null,
   "metadata": {},
   "outputs": [],
   "source": [
    "A = np.random.normal(scale=1, size=(300,3))\n",
    "B = np.array([x for x in np.random.normal(scale=5, size=(500,3)) if np.linalg.norm(x) > 7])\n",
    "A.shape, B.shape"
   ]
  },
  {
   "cell_type": "code",
   "execution_count": null,
   "metadata": {},
   "outputs": [],
   "source": [
    "fig = plt.figure(figsize=(8,8))\n",
    "ax = Axes3D(fig);\n",
    "ax.scatter(A[:,0], A[:,1], A[:,2], alpha=0.6)\n",
    "ax.scatter(B[:,0], B[:,1], B[:,2], alpha=0.6);\n"
   ]
  },
  {
   "cell_type": "code",
   "execution_count": null,
   "metadata": {},
   "outputs": [],
   "source": [
    "def plotProjection(Z):\n",
    "    A2 = Z[:A.shape[0], :]\n",
    "    B2 = Z[A.shape[0]:, :]\n",
    "\n",
    "    fig, ax = plt.subplots(1, figsize=(7,7))\n",
    "    ax.scatter(A2[:,0], A2[:,1], alpha=0.6)\n",
    "    ax.scatter(B2[:,0], B2[:,1], alpha=0.6)\n",
    "    return fig, ax"
   ]
  },
  {
   "cell_type": "markdown",
   "metadata": {},
   "source": [
    "## PCA"
   ]
  },
  {
   "cell_type": "code",
   "execution_count": null,
   "metadata": {},
   "outputs": [],
   "source": [
    "from sklearn.decomposition import PCA\n",
    "X = np.r_[A, B]\n",
    "X2 = PCA(n_components = 2).fit_transform(X)\n",
    "\n",
    "plotProjection(X2);"
   ]
  },
  {
   "cell_type": "markdown",
   "metadata": {},
   "source": [
    "PCA aufgrund seiner linearen Natur, kann die ineinander liegenden Cluster nicht trennen.\n",
    "\n",
    "---"
   ]
  },
  {
   "cell_type": "markdown",
   "metadata": {},
   "source": [
    "## t-SNE"
   ]
  },
  {
   "cell_type": "code",
   "execution_count": null,
   "metadata": {},
   "outputs": [],
   "source": [
    "from sklearn.manifold import TSNE\n",
    "X3 = TSNE(n_components=2).fit_transform(X)\n",
    "plotProjection(X3);"
   ]
  },
  {
   "cell_type": "markdown",
   "metadata": {},
   "source": [
    "## Hyperparameter Perplexity\n",
    "\n",
    "Die Perplexity hängt mit der Anzahl der nächsten Nachbarn zusammen, die betrachtet werden. Größere Datensätze erfordern in der Regel eine größere Perplexity. Wert zwischen 5 und 50 sind in der Regel geeignet. Unterschiedliche Werte können zu signifikant unterschiedlichen Ergebnissen führen.\n",
    "\n",
    "Kleine Werte der Perplexity führen dazu, dass im wesentlichen nur lokale Beziehungen erhalten werden, große zum Erhalt auch weiter entfernter Beziehungen."
   ]
  },
  {
   "cell_type": "code",
   "execution_count": null,
   "metadata": {},
   "outputs": [],
   "source": [
    "X4 = TSNE(n_components=2, perplexity=5).fit_transform(X)\n",
    "fig, ax = plotProjection(X4);\n",
    "ax.set_title('t-SNE mit perplexity=5');"
   ]
  },
  {
   "cell_type": "code",
   "execution_count": null,
   "metadata": {},
   "outputs": [],
   "source": [
    "X5 = TSNE(n_components=2, perplexity=50).fit_transform(X)\n",
    "fig, ax = plotProjection(X5);\n",
    "ax.set_title('t-SNE mit perplexity=50');"
   ]
  },
  {
   "cell_type": "markdown",
   "metadata": {},
   "source": [
    "**Beachte:** Wiederholte Läufe mit den gleichen Hyperparametern müssen nicht zu denselben Ergebnissen führen:"
   ]
  },
  {
   "cell_type": "code",
   "execution_count": null,
   "metadata": {},
   "outputs": [],
   "source": [
    "X6 = TSNE(n_components=2, perplexity=50).fit_transform(X)\n",
    "fig, ax = plotProjection(X6);\n",
    "ax.set_title('t-SNE mit perplexity=50 - Lauf 2');"
   ]
  },
  {
   "cell_type": "markdown",
   "metadata": {},
   "source": [
    "**Extremere Werte** für Perplexity führen zu schlechten Ergebnissen:"
   ]
  },
  {
   "cell_type": "code",
   "execution_count": null,
   "metadata": {},
   "outputs": [],
   "source": [
    "X7 = TSNE(n_components=2, perplexity=1).fit_transform(X)\n",
    "fig, ax = plotProjection(X7);\n",
    "ax.set_title('t-SNE mit perplexity=1');"
   ]
  },
  {
   "cell_type": "code",
   "execution_count": null,
   "metadata": {},
   "outputs": [],
   "source": [
    "X7 = TSNE(n_components=2, perplexity=200).fit_transform(X)\n",
    "fig, ax = plotProjection(X7);\n",
    "ax.set_title('t-SNE mit perplexity=200');"
   ]
  },
  {
   "cell_type": "markdown",
   "metadata": {},
   "source": [
    "**Hinweis:**\n",
    "\n",
    "Sehr schöne Erläuterung und Figuren zu den Eigenheiten der Darstellung von t-SNE: [https://distill.pub/2016/misread-tsne/](https://distill.pub/2016/misread-tsne/)"
   ]
  },
  {
   "cell_type": "code",
   "execution_count": null,
   "metadata": {},
   "outputs": [],
   "source": []
  }
 ],
 "metadata": {
  "kernelspec": {
   "display_name": "Python 3.7.6 64-bit ('dhbw20': conda)",
   "language": "python",
   "name": "python37664bitdhbw20conda4e9f90a409f24fc4a1b2fdf8774acce3"
  },
  "language_info": {
   "codemirror_mode": {
    "name": "ipython",
    "version": 3
   },
   "file_extension": ".py",
   "mimetype": "text/x-python",
   "name": "python",
   "nbconvert_exporter": "python",
   "pygments_lexer": "ipython3",
   "version": "3.7.6"
  }
 },
 "nbformat": 4,
 "nbformat_minor": 4
}
