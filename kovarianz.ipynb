{
 "cells": [
  {
   "cell_type": "markdown",
   "metadata": {},
   "source": [
    "# Kovarianz"
   ]
  },
  {
   "cell_type": "code",
   "execution_count": null,
   "metadata": {},
   "outputs": [],
   "source": [
    "%matplotlib inline\n",
    "from IPython.display import display, Markdown\n",
    "import matplotlib.pyplot as plt\n",
    "import numpy as np\n",
    "\n",
    "def plot(X, fig, ax):\n",
    "    ax.scatter(X[:,0], X[:,1], alpha=0.5)\n",
    "    ax.set_xlabel(r'$x_1$', fontsize=14)\n",
    "    ax.set_ylabel(r'$x_2$', fontsize=14)\n",
    "    ax.axis('equal');\n",
    "    \n",
    "def draw_vector(v0, v1, ax, c):\n",
    "    arrowprops=dict(arrowstyle='|-|',\n",
    "                    linewidth=2,\n",
    "                    shrinkA=0, shrinkB=0,\n",
    "                    color=c\n",
    "                   )\n",
    "    ax.annotate('', v1, v0, arrowprops=arrowprops)\n"
   ]
  },
  {
   "cell_type": "markdown",
   "metadata": {},
   "source": [
    "Wir erzeugen uns zunächst ein paar zufällige Punkte und schauen uns Mittelwert und Ranges an."
   ]
  },
  {
   "cell_type": "code",
   "execution_count": null,
   "metadata": {},
   "outputs": [],
   "source": [
    "m = 10\n",
    "\n",
    "rng = np.random.default_rng(50)\n",
    "X = rng.standard_normal(size=(m, 2))\n",
    "\n",
    "mean_vec = np.mean(X, axis=0)\n",
    "min_vec = np.min(X, axis=0)\n",
    "max_vec = np.max(X, axis=0)\n",
    "\n",
    "display(Markdown(r'Mittelwert: $(\\bar{x}_1, \\bar{x}_2)=($' + f'{mean_vec[0]:.3f}, {mean_vec[1]:.3f}' + r'$)$'))\n",
    "display(Markdown(r'Range: $x_1=[$' + f'{min_vec[0]:.3f}, {max_vec[0]:.3f}' + r'$]$'))\n",
    "display(Markdown(r'Range: $x_2=[$' + f'{min_vec[1]:.3f}, {max_vec[1]:.3f}' + r'$]$'))"
   ]
  },
  {
   "cell_type": "code",
   "execution_count": null,
   "metadata": {},
   "outputs": [],
   "source": [
    "fig, ax = plt.subplots(1, figsize=(10,10))\n",
    "plot(X, fig, ax);\n",
    "\n",
    "ax.scatter(mean_vec[0], mean_vec[1], s=100, c='violet', label='Mean')\n",
    "ax.legend()\n",
    "\n",
    "ax.axvline(mean_vec[0], linestyle='dashed', c='grey')\n",
    "ax.axhline(mean_vec[1], linestyle='dashed', c='grey' )\n",
    "ax.text(0.8,1.5, 'Quadrant I', fontsize=18, c='grey')\n",
    "ax.text(0.8,1.3, r'$x_1^{(i)} - \\bar{x}_1 > 0$', fontsize=14, c='grey')\n",
    "ax.text(0.8,1.1, r'$x_2^{(i)} - \\bar{x}_2 > 0$', fontsize=14, c='grey')\n",
    "ax.text(0.8,-2, 'Quadrant II', fontsize=18, c='grey')\n",
    "ax.text(0.8,-2.2, r'$x_1^{(i)} - \\bar{x}_1 > 0$', fontsize=14, c='grey')\n",
    "ax.text(0.8,-2.4, r'$x_2^{(i)} - \\bar{x}_2 < 0$', fontsize=14, c='grey')\n",
    "ax.text(-2.5,-2, 'Quadrant III', fontsize=18, c='grey')\n",
    "ax.text(-2.5,-2.2, r'$x_1^{(i)} - \\bar{x}_1 < 0$', fontsize=14, c='grey')\n",
    "ax.text(-2.5,-2.4, r'$x_2^{(i)} - \\bar{x}_2 < 0$', fontsize=14, c='grey')\n",
    "ax.text(-2.5,1.5, 'Quadrant IV', fontsize=18, c='grey');\n",
    "ax.text(-2.5,1.3, r'$x_1^{(i)} - \\bar{x}_1 < 0$', fontsize=14, c='grey')\n",
    "ax.text(-2.5,1.1, r'$x_2^{(i)} - \\bar{x}_2 > 0$', fontsize=14, c='grey')\n",
    "draw_vector([min_vec[0], -2.73], [max_vec[0], -2.73], ax, c='r')\n",
    "draw_vector([-2.9, min_vec[1]], [-2.9, max_vec[1]], ax, c='b')\n",
    "\n",
    "ax.set_title('''\n",
    "Scatterplot\n",
    "\n",
    "Der Mittelwert unterteilt die Ebene in Quadranten. \n",
    "Quadrant I und III haben positiven Einfluss auf die Kovarianz, II und IV negativen.\n",
    "\n",
    "An den Axen ist die Range des jeweiligen Features abgetragen.\n",
    "''');"
   ]
  },
  {
   "cell_type": "markdown",
   "metadata": {},
   "source": [
    "Wir wollen uns im folgenden die Kovarianz anschauen, diese ist definiert durch\n",
    "\n",
    "$$\\sigma_{j,k} = \\frac{1}{m-1}\\sum\\limits_{i=1}^m{(x_j^{(i)} - \\bar{x}_j)(x_k^{(i)} - \\bar{x}_k)}$$"
   ]
  },
  {
   "cell_type": "code",
   "execution_count": null,
   "metadata": {},
   "outputs": [],
   "source": [
    "cov_mat = (X - mean_vec).T.dot((X - mean_vec)) / (X.shape[0]-1)\n",
    "display(Markdown('Kovarianz Matrix: \\n\\n' + r'$Cov(x_1, x_2)= \\begin{bmatrix} \\sigma_{1,1}\\;\\sigma_{1,2} \\\\ \\sigma_{2,1}\\;\\sigma_{2,2} \\end{bmatrix}= \\begin{bmatrix}' + '{:.3f}'.format(cov_mat[0,0]) + '\\;' + '{:.3f}'.format(cov_mat[0,1]) + r' \\\\ ' + '{:.3f}'.format(cov_mat[1,0]) + '\\,' + '{:.3f}'.format(cov_mat[1,1]) + ' \\end{bmatrix}$' % cov_mat))"
   ]
  },
  {
   "cell_type": "markdown",
   "metadata": {},
   "source": [
    "**Beachte:** $Cov(x,x)=Var(x)$ und $Cov(x,y)=Cov(y,x)$\n",
    "\n",
    "D.h. die Kovarianzmatrix gibt uns einen Eindruck von der Streuung der Daten in den jeweiligen Achsen-Richtungen und der Stärke der Korrelation zwischen den Daten."
   ]
  }
 ],
 "metadata": {
  "kernelspec": {
   "display_name": "Python 3.7.6 64-bit ('dhbw20': conda)",
   "language": "python",
   "name": "python37664bitdhbw20conda4e9f90a409f24fc4a1b2fdf8774acce3"
  },
  "language_info": {
   "codemirror_mode": {
    "name": "ipython",
    "version": 3
   },
   "file_extension": ".py",
   "mimetype": "text/x-python",
   "name": "python",
   "nbconvert_exporter": "python",
   "pygments_lexer": "ipython3",
   "version": "3.7.6"
  }
 },
 "nbformat": 4,
 "nbformat_minor": 4
}
