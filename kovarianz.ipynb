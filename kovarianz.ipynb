{
 "cells": [
  {
   "cell_type": "markdown",
   "metadata": {},
   "source": [
    "# Kovarianz, Eigenvektoren und Lineare Regression"
   ]
  },
  {
   "cell_type": "code",
   "execution_count": null,
   "metadata": {},
   "outputs": [],
   "source": [
    "%matplotlib inline\n",
    "import matplotlib.pyplot as plt\n",
    "import numpy as np\n",
    "\n",
    "def plot(X, fig, ax):\n",
    "    ax.scatter(X[:,0], X[:,1], alpha=0.5)\n",
    "    ax.set_xlabel('x1')\n",
    "    ax.set_ylabel('x2')\n",
    "    ax.axis('equal');"
   ]
  },
  {
   "cell_type": "code",
   "execution_count": null,
   "metadata": {},
   "outputs": [],
   "source": [
    "m = 10\n",
    "\n",
    "rng = np.random.default_rng(50)\n",
    "X = rng.standard_normal(size=(m, 2))\n",
    "\n",
    "fig, ax = plt.subplots(1, figsize=(10,10))\n",
    "plot(X, fig, ax);\n",
    "\n",
    "mean_vec = np.mean(X, axis=0)\n",
    "ax.scatter(mean_vec[0], mean_vec[1], s=100, c='red', label='Mean')\n",
    "ax.legend()\n",
    "\n",
    "ax.axvline(mean_vec[0], linestyle='dashed', c='grey')\n",
    "ax.axhline(mean_vec[1], linestyle='dashed', c='grey' )\n",
    "ax.text(0.8,1.5, 'Quadrant I', fontsize=18, c='grey')\n",
    "ax.text(0.8,-2.2, 'Quadrant II', fontsize=18, c='grey')\n",
    "ax.text(-2.5,-2.2, 'Quadrant III', fontsize=18, c='grey')\n",
    "ax.text(-2.5,1.5, 'Quadrant IV', fontsize=18, c='grey');\n"
   ]
  },
  {
   "cell_type": "code",
   "execution_count": null,
   "metadata": {},
   "outputs": [],
   "source": [
    "cov_mat = (X - mean_vec).T.dot((X - mean_vec)) / (X.shape[0]-1)\n",
    "print('Kovarianz Matrix \\n%s' %cov_mat)"
   ]
  },
  {
   "cell_type": "markdown",
   "metadata": {},
   "source": [
    "## Eigenvektoren und Eigenwerte"
   ]
  },
  {
   "cell_type": "code",
   "execution_count": null,
   "metadata": {},
   "outputs": [],
   "source": [
    "#cov_mat = np.cov(X.T)\n",
    "\n",
    "eig_vals, eig_vecs = np.linalg.eig(cov_mat)\n",
    "\n",
    "print('Eigenvectors \\n%s' %eig_vecs)\n",
    "print('\\nEigenvalues \\n%s' %eig_vals)\n",
    "\n",
    "print((np.dot(cov_mat, eig_vecs) - eig_vals * eig_vecs) < 0.0000001)"
   ]
  },
  {
   "cell_type": "code",
   "execution_count": null,
   "metadata": {},
   "outputs": [],
   "source": [
    "def draw_vector(v0, v1, ax, label=''):\n",
    "    arrowprops=dict(arrowstyle='->',\n",
    "                    linewidth=2,\n",
    "                    shrinkA=0, shrinkB=0)\n",
    "    ax.annotate('', v1, v0, arrowprops=arrowprops)\n",
    "    ax.text(v1[0], v1[1], label)\n",
    "\n",
    "for idx, (length, vector) in enumerate(zip(eig_vals, eig_vecs)):\n",
    "    v = vector * np.sqrt(length)\n",
    "    print(length, vector)\n",
    "    draw_vector(mean_vec, mean_vec + v, ax, label=f'Principal Component {idx+1}')\n",
    "\n",
    "ax.legend()\n",
    "fig"
   ]
  },
  {
   "cell_type": "code",
   "execution_count": null,
   "metadata": {},
   "outputs": [],
   "source": [
    "from sklearn.linear_model import LinearRegression\n",
    "model = LinearRegression(fit_intercept=True)\n",
    "\n",
    "model.fit(X[:,0].reshape(-1,1), X[:,1])\n",
    "\n",
    "xfit = np.linspace(-3, 1.7, 100)\n",
    "yfit = model.predict(xfit[:, np.newaxis])\n",
    "\n",
    "ax.plot(xfit, yfit, linestyle='dotted', c='green', label='Regression line');\n",
    "ax.legend()\n",
    "fig"
   ]
  },
  {
   "cell_type": "code",
   "execution_count": null,
   "metadata": {},
   "outputs": [],
   "source": []
  }
 ],
 "metadata": {
  "kernelspec": {
   "display_name": "Python 3.7.6 64-bit ('dhbw20': conda)",
   "language": "python",
   "name": "python37664bitdhbw20conda4e9f90a409f24fc4a1b2fdf8774acce3"
  },
  "language_info": {
   "codemirror_mode": {
    "name": "ipython",
    "version": 3
   },
   "file_extension": ".py",
   "mimetype": "text/x-python",
   "name": "python",
   "nbconvert_exporter": "python",
   "pygments_lexer": "ipython3",
   "version": "3.7.6"
  }
 },
 "nbformat": 4,
 "nbformat_minor": 4
}
