{
 "cells": [
  {
   "cell_type": "markdown",
   "metadata": {},
   "source": [
    "# Prüfung vs Lernstunden"
   ]
  },
  {
   "cell_type": "code",
   "execution_count": null,
   "metadata": {},
   "outputs": [],
   "source": [
    "import numpy as np\n",
    "import pandas as pd\n",
    "import matplotlib.pyplot as plt\n",
    "\n",
    "%matplotlib inline\n",
    "\n",
    "plt.style.use('fivethirtyeight')\n"
   ]
  },
  {
   "cell_type": "markdown",
   "metadata": {},
   "source": [
    "Wir haben in einer Studie folgende Daten erhoben:\n",
    "\n",
    "-  x repräsentiert die Stunden, die durchschnittlich mit Lernen am Tag verbracht wurden\n",
    "-  y repräsentiert den Erfolg der Bemühungen: 1 - Pass, 0 - Fail\n"
   ]
  },
  {
   "cell_type": "code",
   "execution_count": null,
   "metadata": {},
   "outputs": [],
   "source": [
    "x = np.array([0.5, 0.75, 1, 1.25, 1.5, 1.75, 2, 2.25, 2.5, 2.75, 3, 3.25, 3.5, 4, 4.25, 4.5, 4.75, 5, 5.5])\n",
    "y = np.array([  0,    0, 0,    0,   0,    0, 1,    0,   1,    0, 1,    0,   1, 1,    1,   1,    1, 1,   1])"
   ]
  },
  {
   "cell_type": "markdown",
   "metadata": {},
   "source": [
    "Schauen wir uns zunächst die Daten an:"
   ]
  },
  {
   "cell_type": "code",
   "execution_count": null,
   "metadata": {},
   "outputs": [],
   "source": [
    "fig, ax = plt.subplots(1, figsize=(10,6))\n",
    "ax.set(title='Lohnt sich Lernen?', xlabel='Lernstunden pro Tag')\n",
    "ax.set_yticks([0, 1])\n",
    "ax.set_yticklabels(['Fail', 'Pass'])\n",
    "ax.scatter(x, y, s=100, color='blue');\n"
   ]
  },
  {
   "cell_type": "markdown",
   "metadata": {},
   "source": [
    "Lineare Regression haben wir ja schon studiert, **wissen also, dass das uns nicht weiterhilft**.\n",
    "\n",
    "Also probieren wir es mit **logistischer Regression**:"
   ]
  },
  {
   "cell_type": "code",
   "execution_count": null,
   "metadata": {},
   "outputs": [],
   "source": [
    "from sklearn.linear_model import LogisticRegression\n",
    "model = LogisticRegression()\n",
    "\n",
    "model.fit(x[:, np.newaxis], y)\n",
    "\n",
    "xfit = np.linspace(0, 6, 100)\n",
    "yfit = model.predict(xfit[:, np.newaxis])\n",
    "\n",
    "ax.plot(xfit, yfit, color='green', alpha=0.5)\n",
    "fig"
   ]
  },
  {
   "cell_type": "markdown",
   "metadata": {},
   "source": [
    "OK..."
   ]
  },
  {
   "cell_type": "markdown",
   "metadata": {},
   "source": [
    "Jetzt kommt allerdings noch so ein Überflieger dazu: 12h am Tag! Und er hat's natürlich geschafft."
   ]
  },
  {
   "cell_type": "code",
   "execution_count": null,
   "metadata": {},
   "outputs": [],
   "source": [
    "x2 = np.append(x, 12)\n",
    "y2 = np.append(y, 1)\n",
    "x2.shape"
   ]
  },
  {
   "cell_type": "code",
   "execution_count": null,
   "metadata": {},
   "outputs": [],
   "source": [
    "model2 = LogisticRegression()\n",
    "\n",
    "model2.fit(x2[:, np.newaxis], y2)\n",
    "\n",
    "xfit2 = np.linspace(0, 12, 100)\n",
    "yfit2 = model2.predict(xfit2[:, np.newaxis])\n",
    "ax.scatter(x2,y2, s=100, color='blue')\n",
    "ax.set_ylim([-0.1, 1.1])\n",
    "ax.plot(xfit2, yfit2, color='red')\n",
    "fig"
   ]
  },
  {
   "cell_type": "markdown",
   "metadata": {},
   "source": [
    "Das Modell funktioniert: die neuen Daten haben die bisherige Einschätzung kaum geändert."
   ]
  },
  {
   "cell_type": "markdown",
   "metadata": {},
   "source": [
    "Aber wo ist unsere Sigmoid-Funktion? \n",
    "\n",
    "Das Modell spukt nicht die Wahrscheinlichkeit P(y = 1) aus, sondern das Target $\\in \\{0, 1\\}$. D.h. 0 oder 1, je nachdem\n",
    "ob die Wahrscheinlichkeit unter oder über dem Threshold 0.5 liegt.\n",
    "\n",
    "So sieht uns gefittetes Sigmoid aus:\n",
    "\n",
    "> `model.predict_proba` gibt die Wahrscheinlichkeiten $P(y = 0|x)$ und $P(y = 1|x)$ zurück - wir plotten nur letztere"
   ]
  },
  {
   "cell_type": "code",
   "execution_count": null,
   "metadata": {},
   "outputs": [],
   "source": [
    "#fig, ax = plt.subplots(1, figsize=(10,6))\n",
    "ax.set(title='Gefittetes Sigmoid', xlabel='Lernstunden pro Tag')\n",
    "#ax.set_yticks([0, 1])\n",
    "#ax.set_yticklabels(['Fail', 'Pass'])\n",
    "#ax.scatter(x, y, s=100, color='blue');\n",
    "ax.axhline(y=0.5, color='black')\n",
    "xsig = np.linspace(0, 12, 100)\n",
    "ysig = model.predict_proba(xsig[:, np.newaxis])\n",
    "\n",
    "ax.plot(xsig, ysig[:, 1], color='gray');\n",
    "fig"
   ]
  }
 ],
 "metadata": {
  "kernelspec": {
   "display_name": "Python 3",
   "language": "python",
   "name": "python3"
  },
  "language_info": {
   "codemirror_mode": {
    "name": "ipython",
    "version": 3
   },
   "file_extension": ".py",
   "mimetype": "text/x-python",
   "name": "python",
   "nbconvert_exporter": "python",
   "pygments_lexer": "ipython3",
   "version": "3.7.6"
  }
 },
 "nbformat": 4,
 "nbformat_minor": 4
}
