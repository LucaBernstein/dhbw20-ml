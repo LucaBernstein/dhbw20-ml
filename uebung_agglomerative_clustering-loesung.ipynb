{
 "cells": [
  {
   "cell_type": "markdown",
   "metadata": {},
   "source": [
    "# Agglomerative Clustering"
   ]
  },
  {
   "cell_type": "markdown",
   "metadata": {},
   "source": [
    "Agglomeratives Clustering ist ein Verfahren des hierarchischen Clusterings.\n",
    "\n",
    "Hierarchisches Clustering ist eine allgemeine Familie von Clustering-Algorithmen, die verschachtelte Cluster durch sukzessives Zusammenfügen oder Aufteilen bilden. Diese Hierarchie von Clustern wird als Baum (oder Dendrogramm) dargestellt. Die Wurzel des Baums ist der ausgezeichnete Cluster, der alle Proben sammelt, wobei die Blätter die Cluster mit nur einer Probe sind. Weitere Einzelheiten finden Sie auf der Wikipedia-Seite.\n",
    "\n",
    "AgglomerativeClustering führt eine hierarchische Clusterung nach einem Bottom-up-Ansatz durch: Jede Beobachtung beginnt in einem eigenen Cluster, und die Cluster werden nacheinander zusammengeführt. Es gibt verschiedene Ansätze, die als Verknüpfungskriterium fungieren:\n",
    "\n",
    "-  \"Ward\" minimiert die Summe der quadrierten Differenzen in allen Clustern. Es handelt sich um einen Varianz-minimierenden Ansatz und ähnelt in diesem Sinne der k-Means-Zielfunktion, wird aber mit einem agglomerierenden (zusammenführenden) hierarchischen Ansatz angegangen.\n",
    "-  \"Maximum\" oder \"complete linkage\" minimiert den maximalen Abstand zwischen den Paaren von Clustern.\n",
    "-  \"Average linkage\" minimiert den Durchschnitt der Abstände zwischen allen Paaren von Clustern.\n",
    "-  \"Single linkage\" minimiert den Abstand zwischen den engsten Paaren von Clustern.\n",
    "\n",
    "Dabei kann der Abstand über die euklidische oder Manhattan-Distanz definiert werden.\n",
    "\n",
    "![Linkage](linkage.png)"
   ]
  },
  {
   "cell_type": "code",
   "execution_count": null,
   "metadata": {},
   "outputs": [],
   "source": [
    "from sklearn import datasets, cluster\n",
    "from sklearn.metrics import silhouette_samples, silhouette_score\n",
    "\n",
    "import matplotlib.pyplot as plt\n",
    "import matplotlib.cm as cm\n",
    "import numpy as np"
   ]
  },
  {
   "cell_type": "markdown",
   "metadata": {},
   "source": [
    "Wir generieren uns Beispieldaten:"
   ]
  },
  {
   "cell_type": "code",
   "execution_count": null,
   "metadata": {},
   "outputs": [],
   "source": [
    "n_samples = 1500\n",
    "X, y = datasets.make_circles(n_samples=n_samples, factor=.5, noise=.05)"
   ]
  },
  {
   "cell_type": "markdown",
   "metadata": {},
   "source": [
    "... und schauen uns diese an:"
   ]
  },
  {
   "cell_type": "code",
   "execution_count": null,
   "metadata": {},
   "outputs": [],
   "source": [
    "print('Shape des Datensatzes - X: {} und y: {}'.format(X.shape, y.shape))"
   ]
  },
  {
   "cell_type": "code",
   "execution_count": null,
   "metadata": {},
   "outputs": [],
   "source": [
    "fig, ax = plt.subplots(1, figsize=(10,10))\n",
    "ax.scatter(X[:,0], X[:,1], c=y)\n",
    "ax.set_title(\"Noisy Circles\");"
   ]
  },
  {
   "cell_type": "markdown",
   "metadata": {},
   "source": [
    "## Aufgabe:\n",
    "\n",
    "Fitte die Daten mittels AgglomerativeClustering.\n",
    "Untersuche dabei die verschiedenen Varianten:\n",
    "\n",
    "- Metrik (`affinity`): 'euclidean' oder 'manhattan'\n",
    "- Verknüpfung (`linkage`): 'complete', 'average', oder 'single'\n",
    "- alle anderen Parameter bleiben auf Defaultwert.\n",
    "\n",
    "Welche Parameter trennen die Cluster sauber?\n",
    "\n",
    "Dokumentation zu [Agglomerative Clustering](https://scikit-learn.org/stable/modules/generated/sklearn.cluster.AgglomerativeClustering.html#sklearn.cluster.AgglomerativeClustering)"
   ]
  },
  {
   "cell_type": "markdown",
   "metadata": {},
   "source": [
    "Mit dieser Methode kann das Ergebnis des Fittens geplottet werden:"
   ]
  },
  {
   "cell_type": "code",
   "execution_count": null,
   "metadata": {},
   "outputs": [],
   "source": [
    "def plot(model, X):\n",
    "    y_pred = model.fit_predict(X)\n",
    "    fig, ax = plt.subplots(1, figsize=(10,10))\n",
    "    ax.scatter(X[:,0], X[:,1], c=y_pred)\n",
    "    ax.set_title(f\"Noisy Circles - {model}\");\n",
    "    fig;"
   ]
  },
  {
   "cell_type": "markdown",
   "metadata": {},
   "source": [
    "## Umsetzung:"
   ]
  },
  {
   "cell_type": "code",
   "execution_count": null,
   "metadata": {},
   "outputs": [],
   "source": [
    "from sklearn.cluster import AgglomerativeClustering\n",
    "\n",
    "for affinity in [ 'euclidean', 'manhattan']:\n",
    "    for linkage in [ 'complete', 'average', 'single']:\n",
    "        model = AgglomerativeClustering(affinity=affinity, linkage=linkage)\n",
    "        plot(model, X)"
   ]
  },
  {
   "cell_type": "code",
   "execution_count": null,
   "metadata": {},
   "outputs": [],
   "source": []
  }
 ],
 "metadata": {
  "kernelspec": {
   "display_name": "Python 3",
   "language": "python",
   "name": "python3"
  },
  "language_info": {
   "codemirror_mode": {
    "name": "ipython",
    "version": 3
   },
   "file_extension": ".py",
   "mimetype": "text/x-python",
   "name": "python",
   "nbconvert_exporter": "python",
   "pygments_lexer": "ipython3",
   "version": "3.7.6"
  }
 },
 "nbformat": 4,
 "nbformat_minor": 4
}
