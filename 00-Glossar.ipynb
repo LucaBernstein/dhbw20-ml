{
 "cells": [
  {
   "cell_type": "markdown",
   "metadata": {},
   "source": [
    "# Glossar"
   ]
  },
  {
   "cell_type": "markdown",
   "metadata": {},
   "source": [
    "**Feature**, **Input**, **Prädiktor**, **Erklärende Variable**, **Unabhängige Variable**, **observed variable**: \n",
    "Eine Spalte im Datenset, Eingabedaten\n",
    "\n",
    "Bezeichner: $x$"
   ]
  },
  {
   "cell_type": "markdown",
   "metadata": {},
   "source": [
    "**Design Matrix:** Die Matrix der Features, m Datensätze in $\\mathbb{R}^n$, also eine Matrix in $\\mathbb{R}^{m \\times n}$\n",
    "\n",
    "> $x_j^{(i)} = x_{i, j}$ bezeichnet das j-te Feature des i-ten Datensatzes\n",
    "\n",
    "Bezeichner: $X$"
   ]
  },
  {
   "cell_type": "markdown",
   "metadata": {},
   "source": [
    "**Target**, **Label**: Die Spalte mit den wahren Ergebnissen\n",
    "\n",
    "Bezeichner: $y$"
   ]
  },
  {
   "cell_type": "markdown",
   "metadata": {},
   "source": [
    "**Predicted Output**, **Outcome**, **Latent Variable**: Ergebnis aus dem Modell\n",
    "\n",
    "Bezeichner: $\\hat{y}$"
   ]
  },
  {
   "cell_type": "markdown",
   "metadata": {},
   "source": [
    "**Hypothese**, **Modell**: Funktion, von der wir hoffen, dass $\\hat{y} \\approx y$\n",
    "\n",
    "Bezeichner: $h$ oder $h_w$"
   ]
  },
  {
   "cell_type": "markdown",
   "metadata": {},
   "source": [
    "**Modellparameter**: Die Parameter des Modells, die trainiert werden\n",
    "\n",
    "Bezeichner: $w$"
   ]
  },
  {
   "cell_type": "markdown",
   "metadata": {},
   "source": [
    "**Loss Function** misst den Fehler eines Trainingssatzes für eine bestimmtes Modells\n",
    "\n",
    "Bezeichner: $L^{(i)}(w)$ - die Loss-Funktion für den (i)-ten Datensatz"
   ]
  },
  {
   "cell_type": "markdown",
   "metadata": {},
   "source": [
    "**Cost-Function** misst den mittleren Loss über alle Trainingsdaten\n",
    "\n",
    "Bezeichner: $J(w)$"
   ]
  },
  {
   "cell_type": "markdown",
   "metadata": {},
   "source": [
    "**Hyperparameter**: Parameter, die den Modell-Algorithmus unabhängig von den Trainingsdaten selbst beeinflussen"
   ]
  },
  {
   "cell_type": "markdown",
   "metadata": {},
   "source": [
    "## Übliche Variablennamen"
   ]
  },
  {
   "cell_type": "markdown",
   "metadata": {},
   "source": [
    "$m$ für die Anzahl der Datensätze"
   ]
  },
  {
   "cell_type": "markdown",
   "metadata": {},
   "source": [
    "$n$ für die Anzahl der Features"
   ]
  },
  {
   "cell_type": "code",
   "execution_count": null,
   "metadata": {},
   "outputs": [],
   "source": []
  }
 ],
 "metadata": {
  "kernelspec": {
   "display_name": "Python 3",
   "language": "python",
   "name": "python3"
  },
  "language_info": {
   "codemirror_mode": {
    "name": "ipython",
    "version": 3
   },
   "file_extension": ".py",
   "mimetype": "text/x-python",
   "name": "python",
   "nbconvert_exporter": "python",
   "pygments_lexer": "ipython3",
   "version": "3.7.6"
  }
 },
 "nbformat": 4,
 "nbformat_minor": 4
}
