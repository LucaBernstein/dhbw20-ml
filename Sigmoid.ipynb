{
 "cells": [
  {
   "cell_type": "markdown",
   "metadata": {},
   "source": [
    "# Sigmoid"
   ]
  },
  {
   "cell_type": "code",
   "execution_count": null,
   "metadata": {},
   "outputs": [],
   "source": [
    "%matplotlib inline\n",
    "import matplotlib.pyplot as plt\n",
    "import seaborn as sns; sns.set()\n",
    "import numpy as np\n"
   ]
  },
  {
   "cell_type": "code",
   "execution_count": null,
   "metadata": {},
   "outputs": [],
   "source": [
    "def sigmoid(z):\n",
    "  return 1.0 / (1 + np.exp(-z))"
   ]
  },
  {
   "cell_type": "code",
   "execution_count": null,
   "metadata": {},
   "outputs": [],
   "source": [
    "x = np.linspace(-8,8,100)\n",
    "y = sigmoid(x)\n",
    "\n",
    "fig, ax = plt.subplots(figsize=(10,6))\n",
    "ax.axvline(x=0, color='black', linewidth=1)\n",
    "ax.axhline(y=0, color='black', linewidth=1)\n",
    "ax.yaxis.set_major_locator(plt.MultipleLocator(0.5))\n",
    "ax.set_title('Sigmoid Function')\n",
    "ax.plot(x,y);\n"
   ]
  },
  {
   "cell_type": "code",
   "execution_count": null,
   "metadata": {},
   "outputs": [],
   "source": [
    "x = np.linspace(-2.5,2.5,100)\n",
    "y = sigmoid(x)\n",
    "\n",
    "fig, ax = plt.subplots(figsize=(10,2))\n",
    "ax.axvline(x=0, color='black', linewidth=1)\n",
    "ax.axhline(y=0, color='black', linewidth=1)\n",
    "ax.yaxis.set_major_locator(plt.MultipleLocator(0.5))\n",
    "ax.axis('equal')\n",
    "ax.set_ylim([0,1])\n",
    "ax.set_title('Sigmoid Function - Echte Steigung')\n",
    "ax.plot(x,y);\n"
   ]
  },
  {
   "cell_type": "code",
   "execution_count": null,
   "metadata": {},
   "outputs": [],
   "source": [
    "x = np.linspace(-8,8,100)\n",
    "y = sigmoid(x)\n",
    "\n",
    "fig, ax = plt.subplots(figsize=(10,10))\n",
    "ax.axvline(x=0, color='black', linewidth=1)\n",
    "ax.set_yscale('logit')\n",
    "ax.set_title('Sigmoid Function - Logit-Skala')\n",
    "ax.plot(x,y);\n"
   ]
  },
  {
   "cell_type": "code",
   "execution_count": null,
   "metadata": {},
   "outputs": [],
   "source": []
  }
 ],
 "metadata": {
  "kernelspec": {
   "display_name": "Python 3",
   "language": "python",
   "name": "python3"
  },
  "language_info": {
   "codemirror_mode": {
    "name": "ipython",
    "version": 3
   },
   "file_extension": ".py",
   "mimetype": "text/x-python",
   "name": "python",
   "nbconvert_exporter": "python",
   "pygments_lexer": "ipython3",
   "version": "3.7.6"
  }
 },
 "nbformat": 4,
 "nbformat_minor": 4
}
