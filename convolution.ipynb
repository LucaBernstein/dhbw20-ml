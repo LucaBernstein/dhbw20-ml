{
 "cells": [
  {
   "cell_type": "code",
   "execution_count": null,
   "metadata": {},
   "outputs": [],
   "source": [
    "import numpy as np\n",
    "import matplotlib.pyplot as plt\n",
    "import tensorflow as tf\n",
    "tf.keras.backend.set_floatx('float32')\n",
    "gpu_devices = tf.config.experimental.list_physical_devices('GPU')\n",
    "for device in gpu_devices:\n",
    "    tf.config.experimental.set_memory_growth(device, True)\n",
    "    \n",
    "from sklearn.datasets import load_sample_image"
   ]
  },
  {
   "cell_type": "markdown",
   "metadata": {},
   "source": [
    "# Convolution - Faltung"
   ]
  },
  {
   "cell_type": "markdown",
   "metadata": {},
   "source": [
    "Der Begriff der Faltung ist sehr mächtig. In der Bildverarbeitung wird er eingesetzt, um Filter auf die Bilddaten anzuwenden.\n"
   ]
  },
  {
   "cell_type": "code",
   "execution_count": null,
   "metadata": {},
   "outputs": [],
   "source": [
    "china = load_sample_image(\"china.jpg\")\n",
    "\n",
    "fig, ax = plt.subplots(1, figsize=(8,8))\n",
    "ax = plt.axes(xticks=[], yticks=[])\n",
    "ax.imshow(china);"
   ]
  },
  {
   "cell_type": "code",
   "execution_count": null,
   "metadata": {},
   "outputs": [],
   "source": [
    "print(f'Shape: {china.shape}')\n",
    "china = tf.convert_to_tensor(china / 255.0, dtype=tf.float32);"
   ]
  },
  {
   "cell_type": "markdown",
   "metadata": {},
   "source": [
    "Wir definieren uns eine Hilfsfunktion, die uns das Setup der Convolution abnimmt:"
   ]
  },
  {
   "cell_type": "code",
   "execution_count": null,
   "metadata": {},
   "outputs": [],
   "source": [
    "def convolute_image(kernel, image):\n",
    "    k = tf.convert_to_tensor(kernel)\n",
    "    k = tf.tile(k[:, :, tf.newaxis, tf.newaxis], [1, 1, 3, 1])\n",
    "    pointwise_filter = tf.eye(3, batch_shape=[1, 1])\n",
    "    image = tf.nn.separable_conv2d(tf.expand_dims(image, 0), k, pointwise_filter,\n",
    "                                   strides=[1, 1, 1, 1], padding='SAME')\n",
    "    image = tf.squeeze(image)\n",
    "    image = tf.math.minimum(tf.math.maximum(image, 0.), 1.)\n",
    "    return image"
   ]
  },
  {
   "cell_type": "markdown",
   "metadata": {},
   "source": [
    "Jetzt definieren wir zwei Filter: Diese hier sind geeignet, um linke Kanten bzw. obere Kanten zu verstärken."
   ]
  },
  {
   "cell_type": "code",
   "execution_count": null,
   "metadata": {},
   "outputs": [],
   "source": [
    "fig, axs = plt.subplots(1,2, figsize=(20,8))\n",
    "vertical = [[1.,0.,-1.], \n",
    "            [2.,0.,-2.], \n",
    "            [1.,0.,-1.]]\n",
    "\n",
    "horizontal = [[1.,2.,1.], \n",
    "              [0.,0.,0.], \n",
    "              [-1.,-2.,-1.]]\n",
    "\n",
    "axs[0].imshow(convolute_image(vertical, china))\n",
    "axs[1].imshow(convolute_image(horizontal, china));"
   ]
  },
  {
   "cell_type": "markdown",
   "metadata": {},
   "source": [
    "Zwei weitere Filter: Umrissfilter und Unschärfefilter."
   ]
  },
  {
   "cell_type": "code",
   "execution_count": null,
   "metadata": {},
   "outputs": [],
   "source": [
    "fig, axs = plt.subplots(1,2, figsize=(20,8))\n",
    "contour = [[0.,  0.,  0.,  0., 0.], \n",
    "           [0.,  0., -2.,  0., 0.], \n",
    "           [0., -2.,  8., -2., 0.], \n",
    "           [0.,  0., -2.,  0., 0.], \n",
    "           [0.,  0.,  0.,  0., 0.]]\n",
    "\n",
    "# blur = [[0.04, 0.04, 0.04, 0.04, 0.04],\n",
    "#         [0.04, 0.04, 0.04, 0.04, 0.04],\n",
    "#         [0.04, 0.04, 0.04, 0.04, 0.04],\n",
    "#         [0.04, 0.04, 0.04, 0.04, 0.04],\n",
    "#         [0.04, 0.04, 0.04, 0.04, 0.04]]\n",
    "\n",
    "blur = 0.04 * np.ones((5,5), dtype='float32') \n",
    "\n",
    "axs[0].imshow(convolute_image(contour, china))\n",
    "axs[1].imshow(convolute_image(blur, china));"
   ]
  },
  {
   "cell_type": "markdown",
   "metadata": {},
   "source": [
    "Warum ist beim verwendeten Unschärfefilter der Wert 0.04 sinnvoll? Was würde passieren, wenn wir einen größeren oder kleineren Wert nähmen?"
   ]
  },
  {
   "cell_type": "code",
   "execution_count": null,
   "metadata": {},
   "outputs": [],
   "source": [
    "fig, axs = plt.subplots(1,2, figsize=(20,8))\n",
    "faktor = ???\n",
    "\n",
    "axs[0].imshow(convolute_image(blur, china));\n",
    "axs[1].imshow(convolute_image(faktor * 0.04 * np.ones((5,5), dtype='float32') , china));"
   ]
  },
  {
   "cell_type": "code",
   "execution_count": null,
   "metadata": {},
   "outputs": [],
   "source": []
  }
 ],
 "metadata": {
  "kernelspec": {
   "display_name": "Python 3.7.6 64-bit ('dhbw20': conda)",
   "language": "python",
   "name": "python37664bitdhbw20conda4e9f90a409f24fc4a1b2fdf8774acce3"
  },
  "language_info": {
   "codemirror_mode": {
    "name": "ipython",
    "version": 3
   },
   "file_extension": ".py",
   "mimetype": "text/x-python",
   "name": "python",
   "nbconvert_exporter": "python",
   "pygments_lexer": "ipython3",
   "version": "3.7.6"
  }
 },
 "nbformat": 4,
 "nbformat_minor": 4
}
