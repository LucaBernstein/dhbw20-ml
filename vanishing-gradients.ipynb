{
 "cells": [
  {
   "cell_type": "code",
   "execution_count": null,
   "metadata": {},
   "outputs": [],
   "source": [
    "%matplotlib inline\n",
    "import matplotlib.pyplot as plt\n",
    "import numpy as np\n",
    "from functools import reduce\n",
    "\n",
    "def plot(title, yTickMult=0.1):\n",
    "    fig, ax = plt.subplots(r, c, figsize=(10,6))\n",
    "    ax.yaxis.set_major_locator(plt.MultipleLocator(yTickMult))\n",
    "    ax.set_title(title, fontsize=18)\n",
    "    return (fig, ax)"
   ]
  },
  {
   "cell_type": "markdown",
   "metadata": {},
   "source": [
    "# Vanishing Gradients\n",
    "\n",
    "Deep Networks zeigen manchmal eine Dynamik, die man am Beispiel eines rekursiven Funktionsaufrufs verdeutlichen kann"
   ]
  },
  {
   "cell_type": "code",
   "execution_count": null,
   "metadata": {},
   "outputs": [],
   "source": [
    "def f(x):\n",
    "    return 3.5*x*(1-x)\n",
    "\n",
    "compose = lambda *F: reduce(lambda f, g: lambda x: f(g(x)), F)"
   ]
  },
  {
   "cell_type": "code",
   "execution_count": null,
   "metadata": {},
   "outputs": [],
   "source": [
    "fig, ax = plot(f'$f(x)$')\n",
    "\n",
    "x = np.linspace(0, 1 ,100)\n",
    "y = f(x)\n",
    "\n",
    "ax.plot(x,y);"
   ]
  },
  {
   "cell_type": "code",
   "execution_count": null,
   "metadata": {},
   "outputs": [],
   "source": [
    "fig, axs = plt.subplots(1, 4, figsize=(20,4))\n",
    "\n",
    "fs = [f, compose(f,f), compose(f,f,f), compose(f,f,f,f,f,f)]\n",
    "tt = [r'$f(x)$', r'$f \\circ f(x)$', r'$f \\circ f \\circ f(x)$', r'$f \\circ f \\circ f \\circ f \\circ f \\circ f(x)$']\n",
    "\n",
    "x = np.linspace(0, 1 ,1000)\n",
    "\n",
    "for idx, fn in enumerate(fs):\n",
    "    ax = axs[idx]\n",
    "    ax.yaxis.set_major_locator(plt.MultipleLocator(0.1))\n",
    "    ax.set_title(tt[idx], fontsize=18)\n",
    "    y = fn(x)\n",
    "\n",
    "    ax.plot(x,y);"
   ]
  },
  {
   "cell_type": "code",
   "execution_count": null,
   "metadata": {},
   "outputs": [],
   "source": []
  }
 ],
 "metadata": {
  "kernelspec": {
   "display_name": "Python 3.7.6 64-bit ('dhbw20': conda)",
   "language": "python",
   "name": "python37664bitdhbw20conda4e9f90a409f24fc4a1b2fdf8774acce3"
  },
  "language_info": {
   "codemirror_mode": {
    "name": "ipython",
    "version": 3
   },
   "file_extension": ".py",
   "mimetype": "text/x-python",
   "name": "python",
   "nbconvert_exporter": "python",
   "pygments_lexer": "ipython3",
   "version": "3.7.6"
  }
 },
 "nbformat": 4,
 "nbformat_minor": 4
}
