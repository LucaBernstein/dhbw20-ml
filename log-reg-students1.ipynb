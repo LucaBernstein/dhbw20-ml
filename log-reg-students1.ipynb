{
 "cells": [
  {
   "cell_type": "markdown",
   "metadata": {},
   "source": [
    "# Prüfung vs Lernstunden"
   ]
  },
  {
   "cell_type": "code",
   "execution_count": null,
   "metadata": {},
   "outputs": [],
   "source": [
    "import numpy as np\n",
    "import pandas as pd\n",
    "import matplotlib.pyplot as plt\n",
    "\n",
    "%matplotlib inline\n",
    "\n",
    "plt.style.use('fivethirtyeight')\n"
   ]
  },
  {
   "cell_type": "markdown",
   "metadata": {},
   "source": [
    "Wir haben in einer Studie folgende Daten erhoben:\n",
    "\n",
    "-  x repräsentiert die Stunden, die durchschnittlich mit Lernen am Tag verbracht wurden\n",
    "-  y repräsentiert den Erfolg der Bemühungen: 1 - Pass, 0 - Fail\n"
   ]
  },
  {
   "cell_type": "code",
   "execution_count": null,
   "metadata": {},
   "outputs": [],
   "source": [
    "x = np.array([0.5, 0.75, 1, 1.25, 1.5, 1.75, 2, 2.25, 2.5, 2.75, 3, 3.25, 3.5, 4, 4.25, 4.5, 4.75, 5, 5.5])\n",
    "y = np.array([  0,    0, 0,    0,   0,    0, 1,    0,   1,    0, 1,    0,   1, 1,    1,   1,    1, 1,   1])"
   ]
  },
  {
   "cell_type": "markdown",
   "metadata": {},
   "source": [
    "Schauen wir uns zunächst die Daten an:"
   ]
  },
  {
   "cell_type": "code",
   "execution_count": null,
   "metadata": {},
   "outputs": [],
   "source": [
    "fig, ax = plt.subplots(1, figsize=(10,6))\n",
    "ax.set(title='Lohnt sich Lernen?', xlabel='Lernstunden pro Tag')\n",
    "ax.set_yticks([0, 1])\n",
    "ax.set_yticklabels(['Fail', 'Pass'])\n",
    "ax.scatter(x,y, s=50);\n"
   ]
  },
  {
   "cell_type": "markdown",
   "metadata": {},
   "source": [
    "Lineare Regression haben wir ja schon studiert, also setzen wir das mal an:"
   ]
  },
  {
   "cell_type": "code",
   "execution_count": null,
   "metadata": {},
   "outputs": [],
   "source": [
    "from sklearn.linear_model import LinearRegression\n",
    "model = LinearRegression(fit_intercept=False)\n",
    "\n",
    "model.fit(x[:, np.newaxis], y)\n",
    "\n",
    "xfit = np.linspace(0, 6, 100)\n",
    "yfit = model.predict(xfit[:, np.newaxis])\n",
    "\n",
    "ax.plot(xfit, yfit)\n",
    "fig"
   ]
  },
  {
   "cell_type": "markdown",
   "metadata": {},
   "source": [
    "Wie interpretieren wir das?\n",
    "\n",
    "Ein Ansatz könnte sein zu sagen, wenn $\\hat{y} > 0.5$, dann 'Pass' sonst 'Fail'"
   ]
  },
  {
   "cell_type": "code",
   "execution_count": null,
   "metadata": {},
   "outputs": [],
   "source": [
    "ax.axhline(y=0.5, color='black', linewidth=1)\n",
    "ax.axvline(x=2.45, color='black', linewidth=1)\n",
    "ax.text(0, 0.51, \"0.5\")\n",
    "\n",
    "fig"
   ]
  },
  {
   "cell_type": "markdown",
   "metadata": {},
   "source": [
    "OK..."
   ]
  },
  {
   "cell_type": "markdown",
   "metadata": {},
   "source": [
    "Jetzt kommt allerdings noch so ein Überflieger dazu: 12h am Tag! Und er hat's natürlich geschafft."
   ]
  },
  {
   "cell_type": "code",
   "execution_count": null,
   "metadata": {},
   "outputs": [],
   "source": [
    "x2 = np.append(x, 12)\n",
    "y2 = np.append(y, 1)\n",
    "x2.shape"
   ]
  },
  {
   "cell_type": "code",
   "execution_count": null,
   "metadata": {},
   "outputs": [],
   "source": [
    "model2 = LinearRegression(fit_intercept=False)\n",
    "\n",
    "model2.fit(x2[:, np.newaxis], y2)\n",
    "\n",
    "xfit2 = np.linspace(0, 12, 100)\n",
    "yfit2 = model2.predict(xfit2[:, np.newaxis])\n",
    "ax.scatter(x2,y2, s=50);\n",
    "ax.set_ylim([-0.1, 1.1])\n",
    "ax.plot(xfit2, yfit2, color='red')\n",
    "fig"
   ]
  },
  {
   "cell_type": "markdown",
   "metadata": {},
   "source": [
    "???"
   ]
  },
  {
   "cell_type": "markdown",
   "metadata": {},
   "source": [
    "Mehrere Probleme:\n",
    "-  Ausreißer verschieben die Entscheidungsgrenze\n",
    "-  Die Gerade liegt nicht innerhalb [0,1] lässt sich also nicht als Wahrscheinlichkeit interpretieren\n"
   ]
  }
 ],
 "metadata": {
  "kernelspec": {
   "display_name": "Python 3",
   "language": "python",
   "name": "python3"
  },
  "language_info": {
   "codemirror_mode": {
    "name": "ipython",
    "version": 3
   },
   "file_extension": ".py",
   "mimetype": "text/x-python",
   "name": "python",
   "nbconvert_exporter": "python",
   "pygments_lexer": "ipython3",
   "version": "3.7.6"
  }
 },
 "nbformat": 4,
 "nbformat_minor": 4
}
