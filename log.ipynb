{
 "cells": [
  {
   "cell_type": "markdown",
   "metadata": {},
   "source": [
    "## Logarithmus"
   ]
  },
  {
   "cell_type": "code",
   "execution_count": null,
   "metadata": {},
   "outputs": [],
   "source": [
    "import matplotlib.pyplot as plt\n",
    "import numpy as np"
   ]
  },
  {
   "cell_type": "code",
   "execution_count": null,
   "metadata": {},
   "outputs": [],
   "source": [
    "x = np.linspace(0.001, 10,100)\n",
    "y = np.log(x)"
   ]
  },
  {
   "cell_type": "markdown",
   "metadata": {},
   "source": [
    "## log Funktion (ln - natürlicher Logarithmus, Basis $e$)"
   ]
  },
  {
   "cell_type": "code",
   "execution_count": null,
   "metadata": {},
   "outputs": [],
   "source": [
    "fig, ax = plt.subplots(1, figsize=(7,7))\n",
    "ax.plot(x,y)\n",
    "ax.grid(True)\n",
    "ax.axhline(0, c='grey')\n",
    "ax.axvline(0, c='grey')\n",
    "ax.set_aspect('equal', 'box')\n",
    "ax.set_title('Logarithmus', fontsize=18);"
   ]
  },
  {
   "cell_type": "markdown",
   "metadata": {},
   "source": [
    "## Log Loss / Cross Entropy"
   ]
  },
  {
   "cell_type": "code",
   "execution_count": null,
   "metadata": {},
   "outputs": [],
   "source": [
    "fig, axs = plt.subplots(1,2, figsize=(15,7), sharey=True)\n",
    "\n",
    "x_ce = [np.linspace(0.0001,1,100), np.linspace(0,0.999,100)]\n",
    "y_ce = [-np.log(x_ce[0]), -np.log(1-x_ce[1])]\n",
    "title= [r'$-log(h_w(x))$', r'$-log(1-h_w(x))$']\n",
    "\n",
    "for i in [0,1]:\n",
    "    axs[i].plot(x_ce[i],y_ce[i])\n",
    "    axs[i].grid(True)\n",
    "    axs[i].axhline(0, c='grey')\n",
    "    axs[i].axvline(0, c='grey')\n",
    "    axs[i].set_title(title[i], fontsize=18);"
   ]
  },
  {
   "cell_type": "code",
   "execution_count": null,
   "metadata": {},
   "outputs": [],
   "source": [
    "fig, ax = plt.subplots(1,1, figsize=(15,7))\n",
    "\n",
    "y_true = [0,1]\n",
    "x_ce = np.linspace(0.0,1,100)\n",
    "\n",
    "def y_ce(y):\n",
    "    return -y*np.log(x_ce)-(1-y)*np.log(1-x_ce)\n",
    "\n",
    "title= [r'$-y^{(i)}log(h_w(x))-(1-y^{(i)})log(1-h_w(x))$']\n",
    "\n",
    "for y in y_true:\n",
    "    ax.plot(x_ce,y_ce(y), label=r'$y^{(i)}$' + f'={y}')\n",
    "\n",
    "ax.grid(True)\n",
    "ax.axhline(0, c='grey')\n",
    "ax.axvline(0, c='grey')\n",
    "ax.set_title(title[0], fontsize=18)\n",
    "ax.set_xlabel(r'$\\hat{y}=h_w(x)$', fontsize=12)\n",
    "ax.set_ylabel(r'$L^{(i)}(w)$', fontsize=12)\n",
    "ax.legend();"
   ]
  },
  {
   "cell_type": "code",
   "execution_count": null,
   "metadata": {},
   "outputs": [],
   "source": []
  }
 ],
 "metadata": {
  "kernelspec": {
   "display_name": "Python 3.7.6 64-bit ('dhbw20': conda)",
   "language": "python",
   "name": "python37664bitdhbw20conda4e9f90a409f24fc4a1b2fdf8774acce3"
  },
  "language_info": {
   "codemirror_mode": {
    "name": "ipython",
    "version": 3
   },
   "file_extension": ".py",
   "mimetype": "text/x-python",
   "name": "python",
   "nbconvert_exporter": "python",
   "pygments_lexer": "ipython3",
   "version": "3.7.6"
  }
 },
 "nbformat": 4,
 "nbformat_minor": 4
}
