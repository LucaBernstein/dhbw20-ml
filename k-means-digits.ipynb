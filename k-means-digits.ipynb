{
 "cells": [
  {
   "cell_type": "markdown",
   "metadata": {
    "collapsed": true,
    "pycharm": {
     "name": "#%% md\n"
    }
   },
   "source": [
    "# Klassifikation des Ziffern-Datensatzes\n",
    "\n",
    "MNIST ist ein berühmter Datensatz im Machine Learning Umfeld.\n",
    "\n",
    "Der Datensatz enthält Abbildungen von handgeschriebenen Ziffern: 10 Klassen, wobei sich jede Klasse auf eine Ziffer bezieht.\n",
    "\n",
    "Von insgesamt 43 Personen trugen 30 zum Schulungssatz und weitere 13 zum Testsatz bei. 32x32 Bitmaps wurden in Blöcke von 4x4 aufgeteilt und die Anzahl der On-Pixel in jedem Block gezählt. Dies erzeugt eine Eingabematrix von 8x8, wobei jedes Element eine ganze Zahl im Bereich 0..16 ist. Dies reduziert die Dimensionalität und sorgt für Invarianz bei kleinen Verzerrungen.\n",
    "\n",
    "Pro Ziffer gibt es ungefähr 180 Samples."
   ]
  },
  {
   "cell_type": "code",
   "execution_count": null,
   "metadata": {
    "pycharm": {
     "name": "#%%\n"
    }
   },
   "outputs": [],
   "source": [
    "from sklearn.datasets import load_digits\n",
    "digits = load_digits()\n",
    "digits.data.shape"
   ]
  },
  {
   "cell_type": "markdown",
   "metadata": {
    "pycharm": {
     "name": "#%% md\n"
    }
   },
   "source": [
    "Ein Beispiel-Image aus dem Datensatz"
   ]
  },
  {
   "cell_type": "code",
   "execution_count": null,
   "metadata": {
    "pycharm": {
     "name": "#%%\n"
    }
   },
   "outputs": [],
   "source": [
    "import matplotlib.pyplot as plt\n",
    "plt.gray()\n",
    "plt.matshow(digits.images[0])\n",
    "plt.show()"
   ]
  },
  {
   "cell_type": "markdown",
   "metadata": {
    "pycharm": {
     "name": "#%% md\n"
    }
   },
   "source": [
    "Die Images sind als Vektor(64) entsprechend eines 8x8 Bildes mit 16 Graustufen abgelegt."
   ]
  },
  {
   "cell_type": "markdown",
   "metadata": {
    "pycharm": {
     "name": "#%% md\n"
    }
   },
   "source": [
    "Wir werden jetzt die vorhandenen Labels ignorieren und versuchen den Datensatz über k-Means in 10 Klassen zu teilen."
   ]
  },
  {
   "cell_type": "code",
   "execution_count": null,
   "metadata": {
    "pycharm": {
     "name": "#%%\n"
    }
   },
   "outputs": [],
   "source": [
    "from sklearn.cluster import KMeans\n",
    "\n",
    "kmeans = KMeans(n_clusters=10, random_state=0)\n",
    "clusters = kmeans.fit_predict(digits.data)\n",
    "kmeans.cluster_centers_.shape"
   ]
  },
  {
   "cell_type": "markdown",
   "metadata": {
    "pycharm": {
     "name": "#%% md\n"
    }
   },
   "source": [
    "Das Ergebnis sind 10 Cluster in $\\mathbb{R}^{64}$.\n",
    "Die Cluster-Mittelpunkte sind Punkte im 64-dimensionalen Raum und quasi die \"idealen\" Ziffern.\n",
    "\n",
    "Die schauen wir uns jetzt an:"
   ]
  },
  {
   "cell_type": "code",
   "execution_count": null,
   "metadata": {
    "pycharm": {
     "name": "#%%\n"
    }
   },
   "outputs": [],
   "source": [
    "fig, ax = plt.subplots(2, 5, figsize=(8, 3))\n",
    "centers = kmeans.cluster_centers_.reshape(10, 8, 8)\n",
    "for axi, center in zip(ax.flat, centers):\n",
    "    axi.set(xticks=[], yticks=[])\n",
    "    axi.imshow(center, interpolation='nearest', cmap=plt.cm.binary)"
   ]
  },
  {
   "cell_type": "markdown",
   "metadata": {
    "pycharm": {
     "name": "#%% md\n"
    }
   },
   "source": [
    "Sieht ja gar nicht schlecht aus. Aber wir können das nachprüfen."
   ]
  },
  {
   "cell_type": "markdown",
   "metadata": {
    "pycharm": {
     "name": "#%% md\n"
    }
   },
   "source": [
    "## Fehlerabschätzung\n",
    "Wir vergleichen jetzt die Clusterzugehörigkeit mit dem echten\n",
    "Label aus dem Datensatz:\n",
    "\n",
    "Dazu matchen wir zunächst die Clusterzugehörigkeit mit dem echten Label `digits.target`, dazu\n",
    "werden wir aus einem Array mit dem Cluster-Index ein Array mit der eigentlichen Ziffer machen: "
   ]
  },
  {
   "cell_type": "code",
   "execution_count": null,
   "metadata": {
    "pycharm": {
     "name": "#%%\n"
    }
   },
   "outputs": [],
   "source": [
    "from scipy.stats import mode\n",
    "import numpy as np\n",
    "\n",
    "# erzeuge ein Array von Nullen in der selben Form wie unsere k-Means Cluster\n",
    "labels = np.zeros_like(clusters)\n",
    "\n",
    "# hier nutzen wir\n",
    "for i in range(10):\n",
    "    # erzeuge Boolsches Array zum Filtern\n",
    "    mask = (clusters == i)\n",
    "    # und nutzen dieses um die entsprechenden Array-Elemente zu selektieren\n",
    "    # Wir gehen davon aus, dass die am häufigsten auftretende Ziffer die \"echte\" Ziffer des Clusters ist\n",
    "    labels[mask] = mode(digits.target[mask])[0]\n",
    "\n",
    "print(labels, digits.target)"
   ]
  },
  {
   "cell_type": "markdown",
   "metadata": {
    "pycharm": {
     "name": "#%% md\n"
    }
   },
   "source": [
    "und erzeugen den Accuracy Score:\n",
    "\n",
    "> **Accuracy Score:** Prozentsatz der richtigen Vorhersagen"
   ]
  },
  {
   "cell_type": "code",
   "execution_count": null,
   "metadata": {
    "pycharm": {
     "name": "#%%\n"
    }
   },
   "outputs": [],
   "source": [
    "from sklearn.metrics import accuracy_score\n",
    "accuracy_score(digits.target, labels)"
   ]
  },
  {
   "cell_type": "markdown",
   "metadata": {
    "pycharm": {
     "name": "#%% md\n"
    }
   },
   "source": [
    "knapp 80% Treffer!\n",
    "\n",
    "Über die Confusion-Matrix können wir noch prüfen, wo die meisten Fehler entstanden sind:\n",
    "\n",
    "> **Confusion Matrix:**  $C_{i,j}$ ist gleich der Anzahl der Beobachtungen, von denen bekannt ist, dass sie in der Gruppe $i$ sind, und von denen vorhergesagt wird, dass sie in der Gruppe $j$ sind."
   ]
  },
  {
   "cell_type": "code",
   "execution_count": null,
   "metadata": {
    "pycharm": {
     "name": "#%%\n"
    }
   },
   "outputs": [],
   "source": [
    "from sklearn.metrics import confusion_matrix\n",
    "import seaborn as sns\n",
    "\n",
    "mat = confusion_matrix(digits.target, labels)\n",
    "sns.heatmap(mat.T, square=True, annot=True, fmt='d', cbar=False,\n",
    "            xticklabels=digits.target_names,\n",
    "            yticklabels=digits.target_names)\n",
    "plt.xlabel('Ziffer gemäß Datensatz Label')\n",
    "plt.ylabel('Ziffer gemäß k-Means');"
   ]
  },
  {
   "cell_type": "markdown",
   "metadata": {
    "pycharm": {
     "name": "#%% md\n"
    }
   },
   "source": [
    "Die Ziffer \"1\" ist schwierig - sie wird oft als \"8\" klassifiziert, die \"5\" oft als \"9\".\n",
    "\n",
    "\"0\", \"6\" und \"7\" sind fast perfekt erkannt."
   ]
  }
 ],
 "metadata": {
  "kernelspec": {
   "display_name": "Python 3",
   "language": "python",
   "name": "python3"
  },
  "language_info": {
   "codemirror_mode": {
    "name": "ipython",
    "version": 3
   },
   "file_extension": ".py",
   "mimetype": "text/x-python",
   "name": "python",
   "nbconvert_exporter": "python",
   "pygments_lexer": "ipython3",
   "version": "3.7.6"
  }
 },
 "nbformat": 4,
 "nbformat_minor": 1
}
