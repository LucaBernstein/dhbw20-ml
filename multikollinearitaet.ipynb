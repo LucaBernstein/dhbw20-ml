{
 "cells": [
  {
   "cell_type": "code",
   "execution_count": null,
   "metadata": {},
   "outputs": [],
   "source": [
    "%matplotlib inline\n",
    "from IPython.display import display, Markdown\n",
    "import matplotlib.pyplot as plt\n",
    "import numpy as np\n",
    "\n",
    "def plot(X, fig, ax):\n",
    "    ax.scatter(X[:,0], X[:,1], alpha=0.5)\n",
    "    ax.set_xlabel(r'$x_1$')\n",
    "    ax.set_ylabel(r'$x_2$')\n",
    "    ax.axis('equal');\n"
   ]
  },
  {
   "cell_type": "code",
   "execution_count": null,
   "metadata": {},
   "outputs": [],
   "source": [
    "m = 100\n",
    "\n",
    "rng = np.random.default_rng(1)\n",
    "x = 10 * rng.random(m)\n",
    "y = x + rng.standard_normal(m)\n",
    "X = np.column_stack((x,y))\n",
    "fig, ax = plt.subplots(1, figsize=(10,10))\n",
    "plot(X, fig, ax);\n"
   ]
  },
  {
   "cell_type": "code",
   "execution_count": null,
   "metadata": {},
   "outputs": [],
   "source": [
    "from sklearn.preprocessing import StandardScaler\n",
    "\n",
    "scaler = StandardScaler().fit(X)\n",
    "print(f'Skalierer: {scaler}')\n",
    "\n",
    "X_std = scaler.transform(X)\n",
    "\n",
    "fig, ax = plt.subplots(1, figsize=(10,10))\n",
    "plot(X_std, fig, ax);\n",
    "ax.set(xlim=[-3, 3], ylim=[-3, 3]);"
   ]
  },
  {
   "cell_type": "code",
   "execution_count": null,
   "metadata": {},
   "outputs": [],
   "source": [
    "mean_vec = np.mean(X_std, axis=0)\n",
    "print(f'Means: {mean_vec}')\n",
    "\n",
    "cov_mat = (X_std - mean_vec).T.dot(X_std - mean_vec) / (X_std.shape[0]-1)\n",
    "\n",
    "display(Markdown('Kovarianz Matrix: \\n\\n' + r'$Cov(x_1, x_2)= \\begin{bmatrix} \\sigma_{1,1}\\;\\sigma_{1,2} \\\\ \\sigma_{2,1}\\;\\sigma_{2,2} \\end{bmatrix}= \\begin{bmatrix}' + '{:.3f}'.format(cov_mat[0,0]) + '\\;' + '{:.3f}'.format(cov_mat[0,1]) + r' \\\\ ' + '{:.3f}'.format(cov_mat[1,0]) + '\\,' + '{:.3f}'.format(cov_mat[1,1]) + ' \\end{bmatrix}$' % cov_mat))"
   ]
  },
  {
   "cell_type": "code",
   "execution_count": null,
   "metadata": {},
   "outputs": [],
   "source": [
    "eig_vals_, eig_vecs_ = np.linalg.eig(cov_mat)\n",
    "\n",
    "eig_vals = np.sort(eig_vals_)[::-1]\n",
    "eig_vecs = eig_vecs_[:, eig_vals_.argsort()[::-1]].T # np.linalg.eig gibt Spalten-Eigenvektoren zurück, daher transponieren\n",
    "\n",
    "print(f'''\n",
    "Eigenwerte:\n",
    "{eig_vals}\n",
    "\n",
    "Eigenvektoren:\n",
    "{eig_vecs}\n",
    "''')"
   ]
  },
  {
   "cell_type": "code",
   "execution_count": null,
   "metadata": {},
   "outputs": [],
   "source": [
    "def draw_vector(v0, v1, ax, c='black'):\n",
    "    arrowprops=dict(arrowstyle='->',\n",
    "                    linewidth=2,\n",
    "                    shrinkA=0, shrinkB=0,\n",
    "                    color=c\n",
    "                   )\n",
    "    ax.annotate('', v1, v0, arrowprops=arrowprops)\n",
    "\n",
    "for length, vector in zip(eig_vals, eig_vecs): \n",
    "    v = vector * 2 * np.sqrt(length)\n",
    "    draw_vector([0,0], [0.0] + v, ax)\n",
    "fig"
   ]
  },
  {
   "cell_type": "markdown",
   "metadata": {},
   "source": [
    "Die Eigenvektoren der Kovarianzmatrix bilden ein gutes Koordinatensystem, welches der Verteilung der Punktwolke folgt."
   ]
  },
  {
   "cell_type": "code",
   "execution_count": null,
   "metadata": {},
   "outputs": [],
   "source": [
    "fig, axs = plt.subplots(1,2, figsize=(21,10))\n",
    "\n",
    "# zunächst noch mal unsere Punktewolke\n",
    "plot(X_std, fig, axs[0])\n",
    "axs[0].set(xlim=[-3, 3], ylim=[-3, 3]);\n",
    "\n",
    "cs = ['green', 'red']\n",
    "for idx, (length, vector) in enumerate(zip(eig_vals, eig_vecs)):\n",
    "    v = vector * 2 * np.sqrt(length)\n",
    "    draw_vector([0,0], [0.0] + v, axs[0], cs[idx])\n",
    "\n",
    "# und jetzt die Transformation durch PCA\n",
    "X_pca = X_std.dot(eig_vecs)\n",
    "\n",
    "plot(X_pca, fig, axs[1])\n",
    "draw_vector([0,0], [2*np.sqrt(eig_vals[0]), 0], axs[1], cs[0])\n",
    "draw_vector([0,0], [0, 2*np.sqrt(eig_vals[1])], axs[1], cs[1])\n",
    "\n",
    "axs[1].set(xlabel='Eigenvektor 1', ylabel='Eigenvektor 2')\n",
    "axs[1].set(xlim=[-3, 3], ylim=[-3, 3]);\n"
   ]
  }
 ],
 "metadata": {
  "kernelspec": {
   "display_name": "Python 3.7.6 64-bit ('dhbw20': conda)",
   "language": "python",
   "name": "python37664bitdhbw20conda4e9f90a409f24fc4a1b2fdf8774acce3"
  },
  "language_info": {
   "codemirror_mode": {
    "name": "ipython",
    "version": 3
   },
   "file_extension": ".py",
   "mimetype": "text/x-python",
   "name": "python",
   "nbconvert_exporter": "python",
   "pygments_lexer": "ipython3",
   "version": "3.7.6"
  }
 },
 "nbformat": 4,
 "nbformat_minor": 4
}
