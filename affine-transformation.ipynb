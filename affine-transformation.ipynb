{
 "cells": [
  {
   "cell_type": "markdown",
   "metadata": {},
   "source": [
    "# Affine Transformation\n",
    "\n",
    "Affine Transformationen sind Transformationen des Raums, bei denen bestimmte geometrische Eigenschaften erhalten bleiben.\n",
    "Lose formuliert:\n",
    "\n",
    "- Punkte einer Geraden werden wieder auf eine Gerade abgebildet\n",
    "- Parallele Geraden bleiben parallel\n",
    "- Das Verhältnis dreier Punkte einer Geraden bleibt erhalten\n",
    "\n",
    "Affine Transformationen kann man mittels Matrixmultiplikation darstellen."
   ]
  },
  {
   "cell_type": "code",
   "execution_count": null,
   "metadata": {},
   "outputs": [],
   "source": [
    "%matplotlib inline\n",
    "import matplotlib.pyplot as plt\n",
    "import numpy as np\n",
    "\n",
    "def plot(X, y, fig, ax):\n",
    "    ax.scatter(X[:,0], X[:,1], c=y, alpha=0.5)\n",
    "    ax.set_xlabel('x1')\n",
    "    ax.set_ylabel('x2')\n",
    "    ax.axis('equal');\n"
   ]
  },
  {
   "cell_type": "markdown",
   "metadata": {},
   "source": [
    "Erzeugen wir uns zunächst mal eine Punktwolke:"
   ]
  },
  {
   "cell_type": "code",
   "execution_count": null,
   "metadata": {},
   "outputs": [],
   "source": [
    "m = 200\n",
    "\n",
    "rng = np.random.default_rng(50)\n",
    "distr = rng.standard_normal(size=(2,m))\n",
    "\n",
    "X_id = np.dot(np.identity(2), distr).T\n",
    "y_id = np.ndarray([m,1]).fill(0)\n",
    "\n",
    "fig, ax = plt.subplots(1, figsize=(10,10))\n",
    "plot(X_id, y_id, fig, ax);\n"
   ]
  },
  {
   "cell_type": "markdown",
   "metadata": {},
   "source": [
    "Die Punktwolke können wir durch Multiplikation mit einer 2x2 Matrix verzerren:"
   ]
  },
  {
   "cell_type": "code",
   "execution_count": null,
   "metadata": {},
   "outputs": [],
   "source": [
    "\n",
    "theta = np.pi/2\n",
    "rot = [[np.cos(theta), np.sin(theta)], [-np.sin(theta), np.cos(theta)]]\n",
    "shear = [[1, 2], [0, 1]]\n",
    "stretchX = [[2, 0],[0, 1]]\n",
    "stretchY = [[1, 0],[0, 2]]\n",
    "\n",
    "fig, axs = plt.subplots(2,3, figsize=(15,10))\n",
    "\n",
    "def plotTransformed(label, input, transformation, ax):\n",
    "    box = np.asarray([[x,y] for x in np.linspace(-4,4, 20) for y in np.linspace(-4,4, 20)]).T\n",
    "    box_transformed = np.dot(transformation, box).T\n",
    "    data = np.dot(transformation, input).T\n",
    "    A = data[:, 0]\n",
    "    B = data[:, 1]\n",
    "    ax.axis('equal')\n",
    "    ax.set(xlim=[-10,10], ylim=[-10, 10])\n",
    "    ax.set_title(label)\n",
    "    ax.scatter(A, B, alpha=0.5);\n",
    "    ax.scatter(box_transformed[:,0], box_transformed[:,1], s=5, c='grey', alpha=0.1);\n",
    "\n",
    "plotTransformed('Identität', distr, np.identity(2), ax=axs[0, 0])\n",
    "plotTransformed('Rotation', distr, rot, ax=axs[0, 1])\n",
    "plotTransformed('Shear', distr, shear, ax=axs[0, 2])\n",
    "plotTransformed('Stretch X', distr, stretchX, ax=axs[1, 0])\n",
    "plotTransformed('Stretch Y', distr, stretchY, ax=axs[1, 1])\n",
    "plotTransformed('Combined', distr, np.dot(np.dot(stretchX, stretchY), np.dot(rot, shear)), ax=axs[1, 2])\n"
   ]
  },
  {
   "cell_type": "markdown",
   "metadata": {},
   "source": [
    "Jetzt ermitteln wir eine zufällige Matrix, mit der wir diese Wolke verzerren:"
   ]
  },
  {
   "cell_type": "code",
   "execution_count": null,
   "metadata": {},
   "outputs": [],
   "source": [
    "S = rng.random(size=(2,2))\n",
    "print(f'S = {S}')"
   ]
  },
  {
   "cell_type": "code",
   "execution_count": null,
   "metadata": {},
   "outputs": [],
   "source": [
    "X = np.dot(S, distr).T\n",
    "y = np.ndarray([m,1]).fill(1)\n",
    "\n",
    "fig, ax = plt.subplots(1, figsize=(10,10))\n",
    "plotTransformed('Verzerrte Punktwolke', distr, S, ax=ax);\n",
    "ax.set(xlim=[-2.5, 2.5], ylim=[-2.5, 2.5])"
   ]
  },
  {
   "cell_type": "markdown",
   "metadata": {},
   "source": [
    "PCA - Principal Component Analysis - ist eine Methode, um die maßgeblichen \"Komponenten\" in einer Datenmenge herauszufinden."
   ]
  },
  {
   "cell_type": "code",
   "execution_count": null,
   "metadata": {},
   "outputs": [],
   "source": [
    "from sklearn.decomposition import PCA\n",
    "pca = PCA(n_components=2, whiten=True)\n",
    "pca.fit(X)"
   ]
  },
  {
   "cell_type": "markdown",
   "metadata": {},
   "source": [
    "Die Ergebnisse von PCA"
   ]
  },
  {
   "cell_type": "code",
   "execution_count": null,
   "metadata": {},
   "outputs": [],
   "source": [
    "print(f'Components ( = Eigenvektoren):\\n {pca.components_}')\n",
    "print(f'\\nVarianz ( = Eigenwerte ):\\n {pca.explained_variance_}')\n"
   ]
  },
  {
   "cell_type": "markdown",
   "metadata": {},
   "source": [
    "Schauen wir uns mal die Vektoren an, die durch PCA definiert sind:"
   ]
  },
  {
   "cell_type": "code",
   "execution_count": null,
   "metadata": {},
   "outputs": [],
   "source": [
    "def draw_vector(v0, v1, ax):\n",
    "    arrowprops=dict(arrowstyle='->',\n",
    "                    linewidth=2,\n",
    "                    shrinkA=0, shrinkB=0)\n",
    "    ax.annotate('', v1, v0, arrowprops=arrowprops)\n",
    "\n",
    "for length, vector in zip(pca.explained_variance_, pca.components_):\n",
    "    v = vector * 3 * np.sqrt(length)\n",
    "    draw_vector(pca.mean_, pca.mean_ + v, ax)\n",
    "fig"
   ]
  },
  {
   "cell_type": "markdown",
   "metadata": {},
   "source": [
    "D.h. die durch PCA definierten Vektoren, beschreiben das Koordinatensystem, welches der Verteilung der Punktwolke folgt."
   ]
  },
  {
   "cell_type": "markdown",
   "metadata": {},
   "source": [
    "Wir können die Punktwolke auch als Punkte im durch PCA definierten Koordinatensystem darstellen:"
   ]
  },
  {
   "cell_type": "code",
   "execution_count": null,
   "metadata": {},
   "outputs": [],
   "source": [
    "fig, axs = plt.subplots(1,2, figsize=(21,7))\n",
    "\n",
    "# zunächst noch mal unsere Punktewolke\n",
    "plot(X, y, fig, axs[0]);\n",
    "axs[0].set_title('Verzerrte Punktwolke');\n",
    "for length, vector in zip(pca.explained_variance_, pca.components_):\n",
    "    v = vector * 3 * np.sqrt(length)\n",
    "    draw_vector(pca.mean_, pca.mean_ + v, axs[0])\n",
    "\n",
    "# und jetzt die Transformation durch PCA\n",
    "X_pca = pca.transform(X)\n",
    "\n",
    "axs[1].scatter(X_pca[:, 0], X_pca[:, 1], alpha=0.5)\n",
    "draw_vector([0, 0], [0, 3], ax=axs[1])\n",
    "draw_vector([0, 0], [3, 0], ax=axs[1])\n",
    "axs[1].axis('equal')\n",
    "axs[1].set(xlabel='component 1', ylabel='component 2',\n",
    "          title='principal components')\n"
   ]
  },
  {
   "cell_type": "code",
   "execution_count": null,
   "metadata": {},
   "outputs": [],
   "source": []
  }
 ],
 "metadata": {
  "kernelspec": {
   "display_name": "Python 3.7.6 64-bit ('dhbw20': conda)",
   "language": "python",
   "name": "python37664bitdhbw20conda4e9f90a409f24fc4a1b2fdf8774acce3"
  },
  "language_info": {
   "codemirror_mode": {
    "name": "ipython",
    "version": 3
   },
   "file_extension": ".py",
   "mimetype": "text/x-python",
   "name": "python",
   "nbconvert_exporter": "python",
   "pygments_lexer": "ipython3",
   "version": "3.7.6"
  }
 },
 "nbformat": 4,
 "nbformat_minor": 4
}
